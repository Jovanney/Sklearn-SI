{
 "cells": [
  {
   "cell_type": "code",
   "execution_count": null,
   "metadata": {},
   "outputs": [],
   "source": [
    "# Importing RandomForestClassifier for model creation\n",
    "from sklearn.ensemble import RandomForestClassifier\n",
    "\n",
    "# Importing train_test_split for splitting the dataset into training and testing sets\n",
    "# Importing cross_val_score for cross-validation\n",
    "# Importing RandomizedSearchCV for hyperparameter tuning\n",
    "from sklearn.model_selection import train_test_split, cross_val_score, RandomizedSearchCV\n",
    "\n",
    "# Importing randint for generating random integers\n",
    "from scipy.stats import randint\n",
    "\n",
    "# Importing confusion_matrix, precision_score, ConfusionMatrixDisplay, accuracy_score, recall_score, f1_score for model evaluation\n",
    "from sklearn.metrics import confusion_matrix, precision_score, ConfusionMatrixDisplay, accuracy_score, recall_score, f1_score\n",
    "\n",
    "# Importing plot_tree for visualizing the decision tree\n",
    "from sklearn.tree import plot_tree\n",
    "\n",
    "# Importing matplotlib.pyplot for data visualization\n",
    "import matplotlib.pyplot as plt\n"
   ]
  }
 ],
 "metadata": {
  "kernelspec": {
   "display_name": "randomforest-6-HhO7Ft-py3.11",
   "language": "python",
   "name": "python3"
  },
  "language_info": {
   "codemirror_mode": {
    "name": "ipython",
    "version": 3
   },
   "file_extension": ".py",
   "mimetype": "text/x-python",
   "name": "python",
   "nbconvert_exporter": "python",
   "pygments_lexer": "ipython3",
   "version": "3.11.4"
  },
  "orig_nbformat": 4
 },
 "nbformat": 4,
 "nbformat_minor": 2
}
